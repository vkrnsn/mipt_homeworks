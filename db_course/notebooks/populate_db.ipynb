{
 "cells": [
  {
   "cell_type": "code",
   "execution_count": 32,
   "id": "aca82f14-a61e-4fcb-91f1-12689acd4977",
   "metadata": {},
   "outputs": [],
   "source": [
    "import pandas as pd\n",
    "import psycopg2\n",
    "import warnings\n",
    "import numpy as np\n",
    "from psycopg2 import extras\n",
    "\n",
    "warnings.filterwarnings(\"ignore\")"
   ]
  },
  {
   "cell_type": "code",
   "execution_count": null,
   "id": "f4b35d6b-2491-4918-b3a7-5ac64b38e1aa",
   "metadata": {},
   "outputs": [],
   "source": []
  },
  {
   "cell_type": "code",
   "execution_count": 57,
   "id": "e05795eb-f2d7-4bee-8829-986c258437fe",
   "metadata": {},
   "outputs": [],
   "source": [
    "db_params = {\n",
    "    'dbname': 'hw1',\n",
    "    'user': 'postgres',\n",
    "    'password': 'geheim',\n",
    "    'host': 'localhost'\n",
    "}\n",
    "df = pd.read_excel(\"data/customer_and_transaction__2_.xlsx\", None)"
   ]
  },
  {
   "cell_type": "code",
   "execution_count": null,
   "id": "d356b3fa-eac6-420c-b791-69166cc1cc7d",
   "metadata": {},
   "outputs": [],
   "source": []
  },
  {
   "cell_type": "code",
   "execution_count": 139,
   "id": "a3ffe215-fe61-4e15-9570-e829858e567b",
   "metadata": {},
   "outputs": [],
   "source": [
    "def replace_nan(df):\n",
    "    for col in df.columns[df.isna().any()].tolist():\n",
    "        df[col] = df[col].replace({np.nan: None})"
   ]
  },
  {
   "cell_type": "code",
   "execution_count": null,
   "id": "6b49edc5-3d2c-4e9f-a54d-e96a85bddec6",
   "metadata": {},
   "outputs": [],
   "source": []
  },
  {
   "cell_type": "code",
   "execution_count": 140,
   "id": "cbbea230-b484-462d-8f7d-f8c2ffd1c20a",
   "metadata": {},
   "outputs": [],
   "source": [
    "customer_full_df = df['customer']\n",
    "replace_nan(customer_full_df)\n",
    "cust_df = customer_full_df[['customer_id', 'first_name', 'last_name', 'gender', 'DOB', 'job_title',\n",
    "       'job_industry_category', 'wealth_segment', 'deceased_indicator', 'owns_car']]\n",
    "addr_df = customer_full_df[['address', 'postcode', 'state', 'country', 'property_valuation', 'customer_id']]\n",
    "customer_data = tuple(cust_df.itertuples(index=False, name=None))\n",
    "addr_data = tuple(addr_df.itertuples(index=False, name=None))"
   ]
  },
  {
   "cell_type": "code",
   "execution_count": null,
   "id": "e8c7861c-e215-4b56-9aea-10140bd4dc4f",
   "metadata": {},
   "outputs": [],
   "source": []
  },
  {
   "cell_type": "code",
   "execution_count": 179,
   "id": "509dbab4-827f-4135-a959-7464c89bb613",
   "metadata": {},
   "outputs": [],
   "source": [
    "insert_customers_q = \"\"\"\n",
    "    INSERT INTO customers (\n",
    "        id, first_name, last_name, gender, DOB, job_title, job_industry_category,\n",
    "        wealth_segment, deceased_indicator, owns_car\n",
    "    ) VALUES %s RETURNING id\n",
    "\"\"\"\n",
    "insert_addresses_q = \"\"\"\n",
    "    INSERT INTO addresses (\n",
    "        address, postcode, state, country, property_valuation, customer_id\n",
    "    ) VALUES %s\n",
    "\"\"\"\n",
    "insert_products_q = \"\"\"\n",
    "    INSERT INTO products (\n",
    "        legacy_product_id, brand, line, class, size, list_price, standard_cost\n",
    "    ) VALUES %s\n",
    "\"\"\"\n",
    "insert_transactions_q = \"\"\"\n",
    "    INSERT INTO transactions (\n",
    "        id, customer_id, date, online_order, order_status, product_id\n",
    "    ) VALUES %s\n",
    "\"\"\""
   ]
  },
  {
   "cell_type": "code",
   "execution_count": null,
   "id": "dd0b4472-bdc0-4b15-8f66-0af3c3ba11c0",
   "metadata": {},
   "outputs": [],
   "source": []
  },
  {
   "cell_type": "code",
   "execution_count": 98,
   "id": "87978357-b33d-46b1-a26e-ea658d7ad7f2",
   "metadata": {},
   "outputs": [],
   "source": [
    "def insert_data(query, data):\n",
    "    conn = psycopg2.connect(**db_params)\n",
    "    cur = conn.cursor()\n",
    "    try:\n",
    "        extras.execute_values(cur, query, data)\n",
    "        conn.commit()\n",
    "    except (Exception, psycopg2.DatabaseError) as error:\n",
    "        print(\"Error: %s\" % error)\n",
    "        conn.rollback()\n",
    "        cur.close()\n",
    "        raise\n",
    "    finally:\n",
    "        # Close communication with the database\n",
    "        if conn is not None:\n",
    "            conn.close()\n",
    "    \n",
    "    print('Data inserted successfully')"
   ]
  },
  {
   "cell_type": "code",
   "execution_count": null,
   "id": "3c767f6a-826c-45b4-b194-c7dcbbeb6493",
   "metadata": {},
   "outputs": [],
   "source": []
  },
  {
   "cell_type": "code",
   "execution_count": 107,
   "id": "daf48a1d-d3dd-42e7-bb54-5edc41470306",
   "metadata": {},
   "outputs": [
    {
     "name": "stdout",
     "output_type": "stream",
     "text": [
      "Data inserted successfully\n",
      "Data inserted successfully\n"
     ]
    }
   ],
   "source": [
    "insert_data(insert_customers_q, customer_data)\n",
    "insert_data(insert_addresses_q, addr_data)"
   ]
  },
  {
   "cell_type": "code",
   "execution_count": null,
   "id": "aa3d5330-2314-4f4f-9cb1-53239572e20f",
   "metadata": {},
   "outputs": [],
   "source": []
  },
  {
   "cell_type": "code",
   "execution_count": 291,
   "id": "6faafb62-3a29-4b68-a890-1d65d750f3c1",
   "metadata": {},
   "outputs": [],
   "source": [
    "transaction_full_df = df['transaction']\n",
    "replace_nan(transaction_full_df)\n",
    "product_df = transaction_full_df[['product_id', 'brand', 'product_line', 'product_class', 'product_size', 'list_price', 'standard_cost']]\n",
    "product_df[\"standard_cost\"] = product_df[\"standard_cost\"].astype(float)\n",
    "product_df = product_df.round(2)\n",
    "replace_nan(product_df)\n",
    "product_df = product_df.drop_duplicates()\n",
    "product_data = tuple(product_df.itertuples(index=False, name=None))\n",
    "\n",
    "product_df.reset_index(inplace=True)\n",
    "product_df['index'] = product_df.index + 1\n",
    "\n",
    "transaction_df = transaction_full_df[[\n",
    "    'transaction_id', 'product_id', 'customer_id', 'transaction_date', 'online_order', 'order_status', 'list_price'\n",
    "]]\n",
    "transaction_df = transaction_df.merge(product_df[['product_id', 'list_price', 'index']], on=['product_id', 'list_price'], how='left')\n",
    "transaction_df.drop(columns=['product_id', 'list_price'], inplace=True)\n",
    "transaction_df = transaction_df[transaction_df[\"customer_id\"] <= 4000]\n",
    "transaction_data = tuple(transaction_df.itertuples(index=False, name=None))"
   ]
  },
  {
   "cell_type": "code",
   "execution_count": null,
   "id": "119997a3-9b7b-4641-8039-67cfafb46fff",
   "metadata": {},
   "outputs": [],
   "source": []
  },
  {
   "cell_type": "code",
   "execution_count": null,
   "id": "e691bdb8-0997-46db-bcbf-37dd625b070a",
   "metadata": {},
   "outputs": [],
   "source": []
  },
  {
   "cell_type": "code",
   "execution_count": 292,
   "id": "aebafd9a-8cea-4fa3-a262-2c86c9483256",
   "metadata": {},
   "outputs": [
    {
     "name": "stdout",
     "output_type": "stream",
     "text": [
      "Data inserted successfully\n",
      "Data inserted successfully\n"
     ]
    }
   ],
   "source": [
    "insert_data(insert_products_q, product_data)\n",
    "insert_data(insert_transactions_q, transaction_data)"
   ]
  },
  {
   "cell_type": "code",
   "execution_count": null,
   "id": "7e52e701-9002-425e-89cf-e3dfcd23f2fd",
   "metadata": {},
   "outputs": [],
   "source": []
  },
  {
   "cell_type": "code",
   "execution_count": null,
   "id": "922991da-4bd6-46b6-8ee9-524b71ab0cd4",
   "metadata": {},
   "outputs": [],
   "source": []
  }
 ],
 "metadata": {
  "kernelspec": {
   "display_name": "Python 3 (ipykernel)",
   "language": "python",
   "name": "python3"
  },
  "language_info": {
   "codemirror_mode": {
    "name": "ipython",
    "version": 3
   },
   "file_extension": ".py",
   "mimetype": "text/x-python",
   "name": "python",
   "nbconvert_exporter": "python",
   "pygments_lexer": "ipython3",
   "version": "3.12.1"
  }
 },
 "nbformat": 4,
 "nbformat_minor": 5
}
